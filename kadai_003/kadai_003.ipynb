{
  "nbformat": 4,
  "nbformat_minor": 0,
  "metadata": {
    "colab": {
      "provenance": []
    },
    "kernelspec": {
      "name": "python3",
      "display_name": "Python 3"
    },
    "language_info": {
      "name": "python"
    }
  },
  "cells": [
    {
      "cell_type": "code",
      "execution_count": 1,
      "metadata": {
        "colab": {
          "base_uri": "https://localhost:8080/"
        },
        "id": "PPmeHtk11ks0",
        "outputId": "a26290d3-fdff-4ffe-87b8-14e837bc216f"
      },
      "outputs": [
        {
          "output_type": "stream",
          "name": "stdout",
          "text": [
            "行列 A:\n",
            " [[0 1]\n",
            " [2 3]\n",
            " [4 5]]\n",
            "行列 B:\n",
            " [[0 1 2 3]\n",
            " [4 5 6 7]]\n",
            "行列の積:\n",
            " [[ 4  5  6  7]\n",
            " [12 17 22 27]\n",
            " [20 29 38 47]]\n",
            "行列の最大値: 47\n"
          ]
        }
      ],
      "source": [
        "# Step 1: NumPyをインポート\n",
        "import numpy as np\n",
        "\n",
        "# Step 2: AとBの行列を定義\n",
        "A = np.array([[0, 1], [2, 3], [4, 5]])\n",
        "B = np.array([[0, 1, 2, 3], [4, 5, 6, 7]])\n",
        "\n",
        "# AとBの行列を表示\n",
        "print(\"行列 A:\\n\", A)\n",
        "print(\"行列 B:\\n\", B)\n",
        "\n",
        "# Step 3: 行列の積を計算\n",
        "result = np.dot(A, B)\n",
        "\n",
        "# Step 4: 計算結果を表示\n",
        "print(\"行列の積:\\n\", result)\n",
        "\n",
        "# Step 5: 行列の要素の最大値を求める\n",
        "max_value = np.max(result)\n",
        "print(\"行列の最大値:\", max_value)\n"
      ]
    }
  ]
}