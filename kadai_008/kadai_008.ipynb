{
  "nbformat": 4,
  "nbformat_minor": 0,
  "metadata": {
    "colab": {
      "provenance": []
    },
    "kernelspec": {
      "name": "python3",
      "display_name": "Python 3"
    },
    "language_info": {
      "name": "python"
    }
  },
  "cells": [
    {
      "cell_type": "code",
      "execution_count": 1,
      "metadata": {
        "colab": {
          "base_uri": "https://localhost:8080/"
        },
        "id": "V0IZHWBgFMRM",
        "outputId": "5010e43a-8ebd-46d5-f1d6-960936b1ef79"
      },
      "outputs": [
        {
          "output_type": "stream",
          "name": "stdout",
          "text": [
            "(178, 13) (124, 13) (54, 13) (178,) (124,) (54,)\n",
            "決定木モデルの正解率: 0.9259259259259259\n"
          ]
        }
      ],
      "source": [
        "#サンプルデータの取得と分割\n",
        "\n",
        "# Step1: 必要なライブラリのインポート\n",
        "from sklearn.datasets import load_wine\n",
        "import pandas as pd\n",
        "from sklearn.model_selection import train_test_split\n",
        "from sklearn.tree import DecisionTreeClassifier\n",
        "from sklearn.metrics import accuracy_score\n",
        "\n",
        "# サンプルデータの取得\n",
        "dataset = load_wine()\n",
        "\n",
        "# データをデータフレームに変換\n",
        "df = pd.DataFrame(data=dataset.data, columns=dataset.feature_names)\n",
        "df['category'] = dataset.target\n",
        "\n",
        "# 特徴量とラベルに分ける\n",
        "X = dataset.data\n",
        "y = dataset.target\n",
        "\n",
        "# サンプルデータをトレーニングデータとテストデータに分割\n",
        "X_train, X_test, y_train, y_test = train_test_split(X, y, test_size=0.3, random_state=5)\n",
        "\n",
        "# データの形状を確認\n",
        "print(X.shape, X_train.shape, X_test.shape, y.shape, y_train.shape, y_test.shape)\n",
        "\n",
        "# Step1: 決定木モデルのインスタンス化と学習\n",
        "model = DecisionTreeClassifier(random_state=3)\n",
        "model.fit(X_train, y_train)\n",
        "\n",
        "# モデルの予測\n",
        "y_pred = model.predict(X_test)\n",
        "\n",
        "# 正解率の評価\n",
        "accuracy = accuracy_score(y_test, y_pred)\n",
        "print(\"決定木モデルの正解率:\", accuracy)\n",
        "\n"
      ]
    },
    {
      "cell_type": "code",
      "source": [
        "#ランダムフォレストにモデルを変更\n",
        "\n",
        "# Step2: 必要なライブラリのインポート\n",
        "from sklearn.ensemble import RandomForestClassifier\n",
        "\n",
        "# ランダムフォレストモデルのインスタンス化\n",
        "model = RandomForestClassifier(random_state=3)\n",
        "\n",
        "# モデルの学習\n",
        "model.fit(X_train, y_train)\n",
        "\n",
        "# モデルの予測\n",
        "y_pred = model.predict(X_test)\n",
        "\n",
        "# 正解率の評価\n",
        "accuracy = accuracy_score(y_test, y_pred)\n",
        "print(\"ランダムフォレストモデルの正解率:\", accuracy)\n"
      ],
      "metadata": {
        "colab": {
          "base_uri": "https://localhost:8080/"
        },
        "id": "YKiZ1eNEFnaT",
        "outputId": "f4875141-ea11-48dd-910f-5e31cbbdb280"
      },
      "execution_count": 2,
      "outputs": [
        {
          "output_type": "stream",
          "name": "stdout",
          "text": [
            "ランダムフォレストモデルの正解率: 0.9629629629629629\n"
          ]
        }
      ]
    }
  ]
}